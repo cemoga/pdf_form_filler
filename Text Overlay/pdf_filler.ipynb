{
 "cells": [
  {
   "cell_type": "markdown",
   "metadata": {},
   "source": [
    "# Pdf Form Filler"
   ]
  },
  {
   "cell_type": "markdown",
   "metadata": {},
   "source": [
    "## Text Overlay Method"
   ]
  },
  {
   "cell_type": "code",
   "execution_count": 1,
   "metadata": {},
   "outputs": [],
   "source": [
    "input_path = 'pdf_to_fill_empty.pdf'\n",
    "output_path = 'pdf_to_fill_filled.pdf'\n",
    "overlay_path = 'pdf_to_fill_text_overlay.pdf'"
   ]
  },
  {
   "cell_type": "code",
   "execution_count": 2,
   "metadata": {},
   "outputs": [],
   "source": [
    "import pdfrw\n",
    "from reportlab.pdfgen import canvas\n",
    "def create_overlay():\n",
    "    \"\"\"\n",
    "    Create the data that will be overlayed on top\n",
    "    of the form that we want to fill\n",
    "    \"\"\"\n",
    "    c = canvas.Canvas(overlay_path)\n",
    "    \n",
    "    c.drawString(192, 681, 'Field_1')\n",
    "    c.drawString(192, 666, 'Field_2')\n",
    "    c.drawString(192, 651, 'Field_3')\n",
    "    c.save()"
   ]
  },
  {
   "cell_type": "code",
   "execution_count": 3,
   "metadata": {},
   "outputs": [],
   "source": [
    "def merge_pdfs(form_pdf, overlay_pdf, output):\n",
    "    \"\"\"\n",
    "    Merge the specified fillable form PDF with the \n",
    "    overlay PDF and save the output\n",
    "    \"\"\"\n",
    "    form = pdfrw.PdfReader(form_pdf)\n",
    "    olay = pdfrw.PdfReader(overlay_pdf)\n",
    "    \n",
    "    for form_page, overlay_page in zip(form.pages, olay.pages):\n",
    "        merge_obj = pdfrw.PageMerge()\n",
    "        overlay = merge_obj.add(overlay_page)[0]\n",
    "        pdfrw.PageMerge(form_page).add(overlay).render()\n",
    "        \n",
    "    writer = pdfrw.PdfWriter()\n",
    "    writer.write(output, form)"
   ]
  },
  {
   "cell_type": "code",
   "execution_count": 4,
   "metadata": {},
   "outputs": [],
   "source": [
    "if __name__ == '__main__':\n",
    "    create_overlay()\n",
    "    merge_pdfs(input_path, \n",
    "               overlay_path, \n",
    "               output_path)"
   ]
  }
 ],
 "metadata": {
  "language_info": {
   "codemirror_mode": {
    "name": "ipython",
    "version": 3
   },
   "file_extension": ".py",
   "mimetype": "text/x-python",
   "name": "python",
   "nbconvert_exporter": "python",
   "pygments_lexer": "ipython3",
   "version": "3.7.4-final"
  },
  "orig_nbformat": 2,
  "kernelspec": {
   "name": "python37464bit4785123cf1534660adfe6f9a3548f6c1",
   "display_name": "Python 3.7.4 64-bit"
  }
 },
 "nbformat": 4,
 "nbformat_minor": 2
}