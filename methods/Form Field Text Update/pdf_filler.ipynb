{
 "cells": [
  {
   "cell_type": "markdown",
   "metadata": {},
   "source": [
    "# Pdf Form Filler"
   ]
  },
  {
   "cell_type": "markdown",
   "metadata": {},
   "source": [
    "## Form Field Text Update"
   ]
  },
  {
   "cell_type": "markdown",
   "metadata": {},
   "source": [
    "### Imput pdf Paths"
   ]
  },
  {
   "cell_type": "code",
   "execution_count": 31,
   "metadata": {},
   "outputs": [],
   "source": [
    "# input_path should contain a pdf file with fields to fill\n",
    "# output_path creates the pdf file with the fields fullfiled\n",
    "# Create the pdf file with form fields with: https://www.pdfescape.com\n",
    "input_path = 'pdf_to_fill_pdfescape.pdf'\n",
    "output_path = 'pdf_filled.pdf'"
   ]
  },
  {
   "cell_type": "markdown",
   "metadata": {},
   "source": [
    "### Get Dictionary of fields to replace"
   ]
  },
  {
   "cell_type": "code",
   "execution_count": 32,
   "metadata": {},
   "outputs": [
    {
     "output_type": "stream",
     "name": "stdout",
     "text": "{'field_1': '1', 'field_2': '2', 'field_3': '3'}\n"
    }
   ],
   "source": [
    "from pdfrw import PdfReader\n",
    "def get_pdf_info(path):\n",
    "    pdf = PdfReader(path)\n",
    "    annotations = pdf.pages[0]['/Annots']\n",
    "    fields = {}\n",
    "    i=1\n",
    "    for annotation in annotations:\n",
    "        field = (annotation.T).replace('(','').replace(')','')\n",
    "        #print(field)\n",
    "        fields[str(field)] = str(i)\n",
    "        i+=1\n",
    "    print(fields)\n",
    "    \n",
    "if __name__ == '__main__':\n",
    "    get_pdf_info(input_path)"
   ]
  },
  {
   "cell_type": "markdown",
   "metadata": {},
   "source": [
    "### Input the dictionary of field names with its content"
   ]
  },
  {
   "cell_type": "code",
   "execution_count": 33,
   "metadata": {},
   "outputs": [],
   "source": [
    "data_dict = {\n",
    "   'field_1': 'This is Field 1',\n",
    "   'field_2': 'This is Field 2',\n",
    "   'field_3': 'This is Field 3'\n",
    "}"
   ]
  },
  {
   "cell_type": "markdown",
   "metadata": {},
   "source": [
    "### Function to fill the pdf Form"
   ]
  },
  {
   "cell_type": "code",
   "execution_count": 34,
   "metadata": {},
   "outputs": [],
   "source": [
    "# Define dependencies\n",
    "import os\n",
    "import pdfrw\n",
    "\n",
    "ANNOT_KEY = '/Annots'\n",
    "ANNOT_FIELD_KEY = '/T'\n",
    "ANNOT_VAL_KEY = '/V'\n",
    "ANNOT_RECT_KEY = '/Rect'\n",
    "SUBTYPE_KEY = '/Subtype'\n",
    "WIDGET_SUBTYPE_KEY = '/Widget'\n",
    "\n",
    "def write_fillable_pdf(input_pdf_path, output_pdf_path, data_dict):\n",
    "    template_pdf = pdfrw.PdfReader(input_pdf_path)\n",
    "    # Makes it render when opening the pdf file on Adobe Acrobat DC\n",
    "    # Credit @TLK3: https://github.com/pmaupin/pdfrw/issues/84\n",
    "    template_pdf.Root.AcroForm.update(pdfrw.PdfDict(NeedAppearances=pdfrw.PdfObject('true')))     \n",
    "    annotations = template_pdf.pages[0][ANNOT_KEY]\n",
    "    for annotation in annotations:\n",
    "        if annotation[SUBTYPE_KEY] == WIDGET_SUBTYPE_KEY:\n",
    "            if annotation[ANNOT_FIELD_KEY]:\n",
    "                key = annotation[ANNOT_FIELD_KEY][1:-1]\n",
    "                if key in data_dict.keys():\n",
    "                    # Makes it render when opening the pdf file on Preview for MacOs\n",
    "                    # Credit @davidmacneil: https://github.com/pmaupin/pdfrw/issues/84\n",
    "                    annotation.update(pdfrw.PdfDict(AP='')) \n",
    "                    # Form Field cannot be modifed Ff=1\n",
    "                    annotation.update(pdfrw.PdfDict(V='{}'.format(data_dict[key]),Ff=1))\n",
    "                    # Form Field can be modified without Ff=1\n",
    "                    # annotation.update(pdfrw.PdfDict(V='{}'.format(data_dict[key])))\n",
    "    pdfrw.PdfWriter().write(output_pdf_path, template_pdf)"
   ]
  },
  {
   "cell_type": "markdown",
   "metadata": {},
   "source": [
    "### Run the function"
   ]
  },
  {
   "cell_type": "code",
   "execution_count": 35,
   "metadata": {},
   "outputs": [],
   "source": [
    "if __name__ == '__main__':\n",
    "    write_fillable_pdf(input_path, output_path, data_dict)"
   ]
  }
 ],
 "metadata": {
  "language_info": {
   "codemirror_mode": {
    "name": "ipython",
    "version": 3
   },
   "file_extension": ".py",
   "mimetype": "text/x-python",
   "name": "python",
   "nbconvert_exporter": "python",
   "pygments_lexer": "ipython3",
   "version": "3.7.4-final"
  },
  "orig_nbformat": 2,
  "kernelspec": {
   "name": "python37464bit4785123cf1534660adfe6f9a3548f6c1",
   "display_name": "Python 3.7.4 64-bit"
  }
 },
 "nbformat": 4,
 "nbformat_minor": 2
}